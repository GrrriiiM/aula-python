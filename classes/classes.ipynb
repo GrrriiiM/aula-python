{
 "cells": [
  {
   "cell_type": "markdown",
   "metadata": {},
   "source": [
    "# Classes"
   ]
  },
  {
   "cell_type": "markdown",
   "metadata": {},
   "source": [
    "## Padrao"
   ]
  },
  {
   "cell_type": "code",
   "execution_count": null,
   "metadata": {},
   "outputs": [],
   "source": [
    "class ClassePadrao():\n",
    "    def __init__(self):\n",
    "        pass"
   ]
  },
  {
   "cell_type": "code",
   "execution_count": null,
   "metadata": {},
   "outputs": [],
   "source": [
    "print(type(ClassePadrao))\n",
    "\n",
    "uma_classe_padrao = ClassePadrao()\n",
    "\n",
    "print(type(uma_classe_padrao))"
   ]
  },
  {
   "cell_type": "markdown",
   "metadata": {},
   "source": [
    "## Com atributo"
   ]
  },
  {
   "cell_type": "code",
   "execution_count": null,
   "metadata": {},
   "outputs": [],
   "source": [
    "class ClasseComAtributo():\n",
    "    def __init__(self):\n",
    "        self.atributo_qualquer = \"valor qualquer\" "
   ]
  },
  {
   "cell_type": "code",
   "execution_count": null,
   "metadata": {},
   "outputs": [],
   "source": [
    "classe_com_atributo = ClasseComAtributo()\n"
   ]
  },
  {
   "cell_type": "code",
   "execution_count": null,
   "metadata": {},
   "outputs": [],
   "source": [
    "classe_com_atributo.atributo_qualquer"
   ]
  },
  {
   "cell_type": "markdown",
   "metadata": {},
   "source": [
    "## Com valor no construtor "
   ]
  },
  {
   "cell_type": "code",
   "execution_count": null,
   "metadata": {},
   "outputs": [],
   "source": [
    "class ClasseComValorConstrutor():\n",
    "    def __init__(self, valor_inicial: str):\n",
    "        self.valor = valor_inicial"
   ]
  },
  {
   "cell_type": "code",
   "execution_count": null,
   "metadata": {},
   "outputs": [],
   "source": [
    "classe_com_valor_construtor = ClasseComValorConstrutor('um texto qualquer')"
   ]
  },
  {
   "cell_type": "code",
   "execution_count": null,
   "metadata": {},
   "outputs": [],
   "source": [
    "classe_com_valor_construtor.valor"
   ]
  },
  {
   "cell_type": "markdown",
   "metadata": {},
   "source": [
    "## Com Função"
   ]
  },
  {
   "cell_type": "code",
   "execution_count": null,
   "metadata": {},
   "outputs": [],
   "source": [
    "class ClasseComFuncao():\n",
    "    def __init__(self, valor_inicial: float):\n",
    "        self.valor = valor_inicial\n",
    "\n",
    "    def soma_valor(self, valor: float) -> float:\n",
    "        self.valor += valor\n",
    "        return self.valor"
   ]
  },
  {
   "cell_type": "code",
   "execution_count": null,
   "metadata": {},
   "outputs": [],
   "source": [
    "classe_com_funcao = ClasseComFuncao(123)\n",
    "print(classe_com_funcao.valor)\n",
    "resultado = classe_com_funcao.soma_valor(456)\n",
    "print(resultado)\n",
    "print(classe_com_funcao.valor)"
   ]
  },
  {
   "cell_type": "markdown",
   "metadata": {},
   "source": [
    "## Com Getter Setter"
   ]
  },
  {
   "cell_type": "code",
   "execution_count": null,
   "metadata": {},
   "outputs": [],
   "source": [
    "class ClasseComGetterSetter():\n",
    "    def __init__(self, valor_inicial: float):\n",
    "        self.__valor_privado = valor_inicial\n",
    "\n",
    "    @property\n",
    "    def valor(self):\n",
    "        return self.__valor_privado\n",
    "\n",
    "    @valor.setter\n",
    "    def valor(self, valor):\n",
    "        self.__valor_privado = valor\n",
    "\n",
    "    def __somar_privado(self, valor: float):\n",
    "        self.__valor_privado += valor\n",
    "    \n",
    "    def somar(self, valor: float):\n",
    "        self.__somar_privado(valor)\n"
   ]
  },
  {
   "cell_type": "code",
   "execution_count": null,
   "metadata": {},
   "outputs": [],
   "source": [
    "classe_com_getter_setter = ClasseComGetterSetter(987)"
   ]
  },
  {
   "cell_type": "code",
   "execution_count": null,
   "metadata": {},
   "outputs": [],
   "source": [
    "classe_com_getter_setter.__valor_privado"
   ]
  },
  {
   "cell_type": "code",
   "execution_count": null,
   "metadata": {},
   "outputs": [],
   "source": [
    "classe_com_getter_setter.__somar_privado(111)"
   ]
  },
  {
   "cell_type": "code",
   "execution_count": null,
   "metadata": {},
   "outputs": [],
   "source": [
    "print(classe_com_getter_setter.valor)\n",
    "classe_com_getter_setter.valor = 789\n",
    "print(classe_com_getter_setter.valor)"
   ]
  },
  {
   "cell_type": "markdown",
   "metadata": {},
   "source": [
    "## Com Herança"
   ]
  },
  {
   "cell_type": "code",
   "execution_count": null,
   "metadata": {},
   "outputs": [],
   "source": [
    "class ClasseComHeranca(ClasseComGetterSetter):\n",
    "    def __init__(self, valor_inicial, valor_novo):\n",
    "        super().__init__(valor_inicial)\n",
    "        self.__valor_novo = valor_novo\n",
    "\n",
    "    @property\n",
    "    def valor_novo(self):\n",
    "        return self.__valor_novo\n",
    "\n",
    "    def somar(self, valor):\n",
    "        super().somar(valor)\n",
    "        self.__valor_novo += valor\n",
    "\n",
    "    "
   ]
  },
  {
   "cell_type": "code",
   "execution_count": null,
   "metadata": {},
   "outputs": [],
   "source": [
    "classe_com_heranca = ClasseComHeranca(1, 2)"
   ]
  },
  {
   "cell_type": "code",
   "execution_count": null,
   "metadata": {},
   "outputs": [],
   "source": [
    "print(classe_com_heranca.valor)\n",
    "print(classe_com_heranca.valor_novo)\n",
    "classe_com_heranca.somar(10)\n",
    "print(classe_com_heranca.valor)\n",
    "print(classe_com_heranca.valor_novo)"
   ]
  },
  {
   "cell_type": "markdown",
   "metadata": {},
   "source": [
    "## Com valores e metodos estáticos"
   ]
  },
  {
   "cell_type": "code",
   "execution_count": null,
   "metadata": {},
   "outputs": [],
   "source": [
    "class ClasseComOpcoesEstaticas():\n",
    "    um_valor_estatico = 'sou estatico'\n",
    "\n",
    "    def __init__(self, valor_qualquer: str):\n",
    "        self.atributo_qualquer = f'{ClasseComOpcoesEstaticas.um_valor_estatico} + {valor_qualquer}'\n",
    "\n",
    "    @classmethod\n",
    "    def metodo_da_classe(cls, valor):\n",
    "        return f'{cls.um_valor_estatico} - chamado pelo metodo + {valor}'\n",
    "\n",
    "    @staticmethod\n",
    "    def metodo_estatico(valor):\n",
    "        return f'sem acesso a classe + {valor}'"
   ]
  },
  {
   "cell_type": "code",
   "execution_count": null,
   "metadata": {},
   "outputs": [],
   "source": [
    "uma_classe_com_opcoes_estaticas = ClasseComOpcoesEstaticas('um valor ai')"
   ]
  },
  {
   "cell_type": "code",
   "execution_count": null,
   "metadata": {},
   "outputs": [],
   "source": [
    "print(uma_classe_com_opcoes_estaticas.atributo_qualquer)\n",
    "print(ClasseComOpcoesEstaticas.metodo_da_classe('testando'))\n",
    "print(ClasseComOpcoesEstaticas.metodo_estatico('testando 123'))"
   ]
  },
  {
   "cell_type": "markdown",
   "metadata": {},
   "source": [
    "## Magic Methods"
   ]
  },
  {
   "cell_type": "code",
   "execution_count": null,
   "metadata": {},
   "outputs": [],
   "source": [
    "class ClasseComMagicMethods():\n",
    "    def __init__(self, x: float, y: float):\n",
    "        self.__x = x;\n",
    "        self.__y = y\n",
    "\n",
    "    @property\n",
    "    def x(self):\n",
    "        return self.__x\n",
    "\n",
    "    @property\n",
    "    def y(self):\n",
    "        return self.__y\n",
    "\n",
    "    def __str__(self):\n",
    "        return f'x: {self.__x} - y: {self.__y}'\n",
    "\n",
    "    def __add__(self, other: ClasseComMagicMethods):\n",
    "        return ClasseComMagicMethods(self.x + other.x, self.y + other.y)"
   ]
  },
  {
   "cell_type": "code",
   "execution_count": null,
   "metadata": {},
   "outputs": [],
   "source": [
    "uma_classe_com_magic_methods = ClasseComMagicMethods(10, 20)"
   ]
  },
  {
   "cell_type": "code",
   "execution_count": null,
   "metadata": {},
   "outputs": [],
   "source": [
    "print(uma_classe_padrao)\n",
    "print(uma_classe_com_magic_methods)"
   ]
  },
  {
   "cell_type": "code",
   "execution_count": null,
   "metadata": {},
   "outputs": [],
   "source": [
    "uma_outra_classe_com_magic_methods = ClasseComMagicMethods(100, 200)"
   ]
  },
  {
   "cell_type": "code",
   "execution_count": null,
   "metadata": {},
   "outputs": [],
   "source": [
    "print(uma_classe_com_magic_methods)\n",
    "print(uma_outra_classe_com_magic_methods)\n",
    "print(uma_classe_com_magic_methods + uma_outra_classe_com_magic_methods)"
   ]
  }
 ],
 "metadata": {
  "interpreter": {
   "hash": "57c4dbb94661a976730113afd48c530688c112c069e725add353a90d52985f78"
  },
  "kernelspec": {
   "display_name": "Python 3.9.0 64-bit",
   "name": "python3"
  },
  "language_info": {
   "codemirror_mode": {
    "name": "ipython",
    "version": 3
   },
   "file_extension": ".py",
   "mimetype": "text/x-python",
   "name": "python",
   "nbconvert_exporter": "python",
   "pygments_lexer": "ipython3",
   "version": "3.9.0"
  },
  "orig_nbformat": 4
 },
 "nbformat": 4,
 "nbformat_minor": 2
}
