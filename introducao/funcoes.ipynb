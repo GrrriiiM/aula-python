{
 "cells": [
  {
   "cell_type": "markdown",
   "metadata": {},
   "source": [
    "# Funções"
   ]
  },
  {
   "cell_type": "markdown",
   "metadata": {},
   "source": [
    "## Sem retorno"
   ]
  },
  {
   "cell_type": "code",
   "execution_count": 26,
   "metadata": {},
   "outputs": [],
   "source": [
    "def uma_funcao_qualquer(v1, v2):\n",
    "    print(f'v1 = {v1}, v2 = {v2}')\n"
   ]
  },
  {
   "cell_type": "code",
   "execution_count": 27,
   "metadata": {},
   "outputs": [
    {
     "name": "stdout",
     "output_type": "stream",
     "text": [
      "v1 = texto, v2 = 123\n"
     ]
    }
   ],
   "source": [
    "uma_funcao_qualquer('texto', 123)\n"
   ]
  },
  {
   "cell_type": "code",
   "execution_count": 30,
   "metadata": {},
   "outputs": [
    {
     "name": "stdout",
     "output_type": "stream",
     "text": [
      "v1 = abcd, v2 = 332211\n",
      "v1 = abcd, v2 = 332211\n"
     ]
    }
   ],
   "source": [
    "uma_funcao_qualquer(v1='abcd', v2=332211)\n",
    "uma_funcao_qualquer(v2=332211, v1='abcd')\n"
   ]
  },
  {
   "cell_type": "markdown",
   "metadata": {},
   "source": [
    "## Com retorno"
   ]
  },
  {
   "cell_type": "code",
   "execution_count": null,
   "metadata": {},
   "outputs": [],
   "source": [
    "def uma_funcao_com_retorno(v1, v2):\n",
    "    return f'{str(v1)} - {str(v2)}'\n",
    "\n",
    "\n",
    "r = uma_funcao_com_retorno(321, 'textoooo')\n",
    "r\n"
   ]
  },
  {
   "cell_type": "markdown",
   "metadata": {},
   "source": [
    "## Com type hint"
   ]
  },
  {
   "cell_type": "code",
   "execution_count": null,
   "metadata": {},
   "outputs": [],
   "source": [
    "def uma_funcao_tipada(v1: int, v2: int) -> int:\n",
    "    print(type(v1), type(v2))\n",
    "    return v1 * v2\n"
   ]
  },
  {
   "cell_type": "code",
   "execution_count": 33,
   "metadata": {},
   "outputs": [
    {
     "name": "stdout",
     "output_type": "stream",
     "text": [
      "<class 'int'> <class 'int'>\n"
     ]
    },
    {
     "data": {
      "text/plain": [
       "72"
      ]
     },
     "execution_count": 33,
     "metadata": {},
     "output_type": "execute_result"
    }
   ],
   "source": [
    "uma_funcao_tipada(9, 8)\n"
   ]
  },
  {
   "cell_type": "code",
   "execution_count": null,
   "metadata": {},
   "outputs": [],
   "source": [
    "uma_funcao_tipada('string', True)\n"
   ]
  },
  {
   "cell_type": "markdown",
   "metadata": {},
   "source": [
    "## Validação de tipo"
   ]
  },
  {
   "cell_type": "code",
   "execution_count": 21,
   "metadata": {},
   "outputs": [],
   "source": [
    "def uma_funcao_que_valida_tipo(v1: int, v2: int) -> int:\n",
    "    if not isinstance(v1, int):\n",
    "        raise TypeError('v1 deve ser do tipo ''int''')\n",
    "    if not isinstance(v2, int):\n",
    "        raise TypeError('v1 deve ser do tipo ''int''')\n",
    "    return v1 * v2\n"
   ]
  },
  {
   "cell_type": "code",
   "execution_count": null,
   "metadata": {},
   "outputs": [],
   "source": [
    "uma_funcao_que_valida_tipo(10, 20)\n"
   ]
  },
  {
   "cell_type": "code",
   "execution_count": 34,
   "metadata": {},
   "outputs": [
    {
     "ename": "TypeError",
     "evalue": "v1 deve ser do tipo int",
     "output_type": "error",
     "traceback": [
      "\u001b[1;31m---------------------------------------------------------------------------\u001b[0m",
      "\u001b[1;31mTypeError\u001b[0m                                 Traceback (most recent call last)",
      "\u001b[1;32m<ipython-input-34-08e23196bfa9>\u001b[0m in \u001b[0;36m<module>\u001b[1;34m\u001b[0m\n\u001b[1;32m----> 1\u001b[1;33m \u001b[0muma_funcao_que_valida_tipo\u001b[0m\u001b[1;33m(\u001b[0m\u001b[1;36m10\u001b[0m\u001b[1;33m,\u001b[0m \u001b[1;34m'oi'\u001b[0m\u001b[1;33m)\u001b[0m\u001b[1;33m\u001b[0m\u001b[1;33m\u001b[0m\u001b[0m\n\u001b[0m",
      "\u001b[1;32m<ipython-input-21-16c8aac61647>\u001b[0m in \u001b[0;36muma_funcao_que_valida_tipo\u001b[1;34m(v1, v2)\u001b[0m\n\u001b[0;32m      3\u001b[0m         \u001b[1;32mraise\u001b[0m \u001b[0mTypeError\u001b[0m\u001b[1;33m(\u001b[0m\u001b[1;34m'v1 deve ser do tipo '\u001b[0m\u001b[1;34m'int'\u001b[0m\u001b[1;34m''\u001b[0m\u001b[1;33m)\u001b[0m\u001b[1;33m\u001b[0m\u001b[1;33m\u001b[0m\u001b[0m\n\u001b[0;32m      4\u001b[0m     \u001b[1;32mif\u001b[0m \u001b[1;32mnot\u001b[0m \u001b[0misinstance\u001b[0m\u001b[1;33m(\u001b[0m\u001b[0mv2\u001b[0m\u001b[1;33m,\u001b[0m \u001b[0mint\u001b[0m\u001b[1;33m)\u001b[0m\u001b[1;33m:\u001b[0m\u001b[1;33m\u001b[0m\u001b[1;33m\u001b[0m\u001b[0m\n\u001b[1;32m----> 5\u001b[1;33m         \u001b[1;32mraise\u001b[0m \u001b[0mTypeError\u001b[0m\u001b[1;33m(\u001b[0m\u001b[1;34m'v1 deve ser do tipo '\u001b[0m\u001b[1;34m'int'\u001b[0m\u001b[1;34m''\u001b[0m\u001b[1;33m)\u001b[0m\u001b[1;33m\u001b[0m\u001b[1;33m\u001b[0m\u001b[0m\n\u001b[0m\u001b[0;32m      6\u001b[0m     \u001b[1;32mreturn\u001b[0m \u001b[0mv1\u001b[0m \u001b[1;33m*\u001b[0m \u001b[0mv2\u001b[0m\u001b[1;33m\u001b[0m\u001b[1;33m\u001b[0m\u001b[0m\n",
      "\u001b[1;31mTypeError\u001b[0m: v1 deve ser do tipo int"
     ]
    }
   ],
   "source": [
    "uma_funcao_que_valida_tipo(10, 'oi')\n"
   ]
  },
  {
   "cell_type": "markdown",
   "metadata": {},
   "source": [
    "## Parametros dinâmicos"
   ]
  },
  {
   "cell_type": "code",
   "execution_count": 35,
   "metadata": {},
   "outputs": [],
   "source": [
    "def uma_funcao_com_parametro_dinamico(v1, *args, **kwargs):\n",
    "    print(v1)\n",
    "    print(args)\n",
    "    print(kwargs)\n"
   ]
  },
  {
   "cell_type": "code",
   "execution_count": 36,
   "metadata": {},
   "outputs": [
    {
     "name": "stdout",
     "output_type": "stream",
     "text": [
      "1\n",
      "(2, 3, 4)\n",
      "{'v2': 10, 'v3': 20, 'v4': 30}\n"
     ]
    }
   ],
   "source": [
    "uma_funcao_com_parametro_dinamico(1, 2, 3, 4, v2=10, v3=20, v4=30)\n"
   ]
  },
  {
   "cell_type": "markdown",
   "metadata": {},
   "source": [
    "## Documentação"
   ]
  },
  {
   "cell_type": "code",
   "execution_count": 57,
   "metadata": {},
   "outputs": [],
   "source": [
    "def uma_funcao_documentada(*args, **kwargs) -> float:\n",
    "    \"\"\"\n",
    "    retorna o resultado da operação matematica com os números informados\n",
    "\n",
    "    args:\n",
    "      param1 (int): primeiro valor do calculo\n",
    "      param2 (int): segundo valor do calculo\n",
    "      paramN (int): demais valores para o calculo\n",
    "    kwargs:\n",
    "      oper (string): simbolo da operação do calculo\n",
    "        '+' para soma\n",
    "        '-' para subtração\n",
    "        '*' para multiplicação\n",
    "        '/' para divisão\n",
    "\n",
    "    \"\"\"\n",
    "\n",
    "    if len(args) < 2:\n",
    "        raise ValueError('É necessário 2 argumentos ou mais')\n",
    "\n",
    "    op = '+'\n",
    "    if 'oper' in kwargs:\n",
    "        op = kwargs['oper']\n",
    "\n",
    "    if len([n for n in args if not isinstance(n, int)]) > 0:\n",
    "        raise TypeError('Todos argumentos precisam ser ''int''')\n",
    "\n",
    "    v1 = args[0]\n",
    "\n",
    "    for v2 in args[1:]:\n",
    "        if op == '+':\n",
    "            v1 += v2\n",
    "        elif op == '-':\n",
    "            v1 -= v2\n",
    "        elif op == '*':\n",
    "            v1 *= v2\n",
    "        elif op == '/':\n",
    "            v1 = v1 / v2\n",
    "        else:\n",
    "            raise ValueError('\\'oper\\' com valor inválido')\n",
    "\n",
    "    return v1\n"
   ]
  },
  {
   "cell_type": "code",
   "execution_count": 58,
   "metadata": {},
   "outputs": [
    {
     "data": {
      "text/plain": [
       "0.041666666666666664"
      ]
     },
     "execution_count": 58,
     "metadata": {},
     "output_type": "execute_result"
    }
   ],
   "source": [
    "uma_funcao_documentada(1, 2, 3, 4, oper='/')\n"
   ]
  }
 ],
 "metadata": {
  "interpreter": {
   "hash": "57c4dbb94661a976730113afd48c530688c112c069e725add353a90d52985f78"
  },
  "kernelspec": {
   "display_name": "Python 3.9.0 64-bit",
   "name": "python3"
  },
  "language_info": {
   "codemirror_mode": {
    "name": "ipython",
    "version": 3
   },
   "file_extension": ".py",
   "mimetype": "text/x-python",
   "name": "python",
   "nbconvert_exporter": "python",
   "pygments_lexer": "ipython3",
   "version": "3.9.0"
  },
  "orig_nbformat": 4
 },
 "nbformat": 4,
 "nbformat_minor": 2
}
